{
 "cells": [
  {
   "cell_type": "code",
   "execution_count": null,
   "metadata": {},
   "outputs": [],
   "source": [
    "# !pip install pprintpp\n",
    "# !pip install pydantic"
   ]
  },
  {
   "cell_type": "code",
   "execution_count": 22,
   "metadata": {},
   "outputs": [
    {
     "name": "stdout",
     "output_type": "stream",
     "text": [
      "2.10.4\n"
     ]
    }
   ],
   "source": [
    "import pydantic\n",
    "from pprint import pprint\n",
    "print(pydantic.__version__)"
   ]
  },
  {
   "cell_type": "code",
   "execution_count": 23,
   "metadata": {},
   "outputs": [],
   "source": [
    "from pydantic import BaseModel\n",
    "\n",
    "class User(BaseModel):\n",
    "    id:int\n",
    "    name:str = 'Ananth'"
   ]
  },
  {
   "cell_type": "code",
   "execution_count": 24,
   "metadata": {},
   "outputs": [
    {
     "name": "stdout",
     "output_type": "stream",
     "text": [
      "123\n"
     ]
    }
   ],
   "source": [
    "user = User(id=123)\n",
    "print(user.id)"
   ]
  },
  {
   "cell_type": "code",
   "execution_count": 25,
   "metadata": {},
   "outputs": [
    {
     "ename": "ValidationError",
     "evalue": "1 validation error for User\nid\n  Input should be a valid integer, unable to parse string as an integer [type=int_parsing, input_value='abc', input_type=str]\n    For further information visit https://errors.pydantic.dev/2.10/v/int_parsing",
     "output_type": "error",
     "traceback": [
      "\u001b[1;31m---------------------------------------------------------------------------\u001b[0m",
      "\u001b[1;31mValidationError\u001b[0m                           Traceback (most recent call last)",
      "Cell \u001b[1;32mIn[25], line 1\u001b[0m\n\u001b[1;32m----> 1\u001b[0m user \u001b[38;5;241m=\u001b[39m \u001b[43mUser\u001b[49m\u001b[43m(\u001b[49m\u001b[38;5;28;43mid\u001b[39;49m\u001b[38;5;241;43m=\u001b[39;49m\u001b[38;5;124;43m\"\u001b[39;49m\u001b[38;5;124;43mabc\u001b[39;49m\u001b[38;5;124;43m\"\u001b[39;49m\u001b[43m)\u001b[49m\n",
      "File \u001b[1;32mc:\\Users\\HP\\miniconda3\\envs\\genai\\Lib\\site-packages\\pydantic\\main.py:214\u001b[0m, in \u001b[0;36mBaseModel.__init__\u001b[1;34m(self, **data)\u001b[0m\n\u001b[0;32m    212\u001b[0m \u001b[38;5;66;03m# `__tracebackhide__` tells pytest and some other tools to omit this function from tracebacks\u001b[39;00m\n\u001b[0;32m    213\u001b[0m __tracebackhide__ \u001b[38;5;241m=\u001b[39m \u001b[38;5;28;01mTrue\u001b[39;00m\n\u001b[1;32m--> 214\u001b[0m validated_self \u001b[38;5;241m=\u001b[39m \u001b[38;5;28;43mself\u001b[39;49m\u001b[38;5;241;43m.\u001b[39;49m\u001b[43m__pydantic_validator__\u001b[49m\u001b[38;5;241;43m.\u001b[39;49m\u001b[43mvalidate_python\u001b[49m\u001b[43m(\u001b[49m\u001b[43mdata\u001b[49m\u001b[43m,\u001b[49m\u001b[43m \u001b[49m\u001b[43mself_instance\u001b[49m\u001b[38;5;241;43m=\u001b[39;49m\u001b[38;5;28;43mself\u001b[39;49m\u001b[43m)\u001b[49m\n\u001b[0;32m    215\u001b[0m \u001b[38;5;28;01mif\u001b[39;00m \u001b[38;5;28mself\u001b[39m \u001b[38;5;129;01mis\u001b[39;00m \u001b[38;5;129;01mnot\u001b[39;00m validated_self:\n\u001b[0;32m    216\u001b[0m     warnings\u001b[38;5;241m.\u001b[39mwarn(\n\u001b[0;32m    217\u001b[0m         \u001b[38;5;124m'\u001b[39m\u001b[38;5;124mA custom validator is returning a value other than `self`.\u001b[39m\u001b[38;5;130;01m\\n\u001b[39;00m\u001b[38;5;124m'\u001b[39m\n\u001b[0;32m    218\u001b[0m         \u001b[38;5;124m\"\u001b[39m\u001b[38;5;124mReturning anything other than `self` from a top level model validator isn\u001b[39m\u001b[38;5;124m'\u001b[39m\u001b[38;5;124mt supported when validating via `__init__`.\u001b[39m\u001b[38;5;130;01m\\n\u001b[39;00m\u001b[38;5;124m\"\u001b[39m\n\u001b[0;32m    219\u001b[0m         \u001b[38;5;124m'\u001b[39m\u001b[38;5;124mSee the `model_validator` docs (https://docs.pydantic.dev/latest/concepts/validators/#model-validators) for more details.\u001b[39m\u001b[38;5;124m'\u001b[39m,\n\u001b[0;32m    220\u001b[0m         stacklevel\u001b[38;5;241m=\u001b[39m\u001b[38;5;241m2\u001b[39m,\n\u001b[0;32m    221\u001b[0m     )\n",
      "\u001b[1;31mValidationError\u001b[0m: 1 validation error for User\nid\n  Input should be a valid integer, unable to parse string as an integer [type=int_parsing, input_value='abc', input_type=str]\n    For further information visit https://errors.pydantic.dev/2.10/v/int_parsing"
     ]
    }
   ],
   "source": [
    "user = User(id=\"abc\")\n"
   ]
  },
  {
   "cell_type": "code",
   "execution_count": 26,
   "metadata": {},
   "outputs": [
    {
     "name": "stdout",
     "output_type": "stream",
     "text": [
      "123\n"
     ]
    }
   ],
   "source": [
    "user = User(id='123')\n",
    "print(user.id)"
   ]
  },
  {
   "cell_type": "code",
   "execution_count": 27,
   "metadata": {},
   "outputs": [
    {
     "name": "stdout",
     "output_type": "stream",
     "text": [
      "{'id'}\n"
     ]
    }
   ],
   "source": [
    "print(user.model_fields_set)"
   ]
  },
  {
   "cell_type": "code",
   "execution_count": 28,
   "metadata": {},
   "outputs": [
    {
     "name": "stdout",
     "output_type": "stream",
     "text": [
      "{'id', 'name'}\n"
     ]
    }
   ],
   "source": [
    "user = User(id=123, name='ananth')\n",
    "print(user.model_fields_set)"
   ]
  },
  {
   "cell_type": "code",
   "execution_count": 33,
   "metadata": {},
   "outputs": [
    {
     "name": "stdout",
     "output_type": "stream",
     "text": [
      "{'id': 123, 'name': 'ananth'}\n",
      "{\"id\":123,\"name\":\"ananth\"}\n",
      "{'properties': {'id': {'title': 'Id', 'type': 'integer'},\n",
      "                'name': {'default': 'Ananth',\n",
      "                         'title': 'Name',\n",
      "                         'type': 'string'}},\n",
      " 'required': ['id'],\n",
      " 'title': 'User',\n",
      " 'type': 'object'}\n"
     ]
    }
   ],
   "source": [
    "print(user.model_dump())\n",
    "print(user.model_dump_json())\n",
    "pprint(user.model_json_schema())"
   ]
  },
  {
   "cell_type": "markdown",
   "metadata": {},
   "source": [
    "Nested Model"
   ]
  },
  {
   "cell_type": "code",
   "execution_count": 35,
   "metadata": {},
   "outputs": [
    {
     "name": "stdout",
     "output_type": "stream",
     "text": [
      "name='jeff biryani' location='123, east fort' foods=[Food(name='Chicken biryani', price=120.0, ingredients=['Chicken', 'Rice', 'Masala']), Food(name='Mutton biryani', price=180.0, ingredients=None)]\n",
      "('{\"name\":\"jeff biryani\",\"location\":\"123, east fort\",\"foods\":[{\"name\":\"Chicken '\n",
      " 'biryani\",\"price\":120.0,\"ingredients\":[\"Chicken\",\"Rice\",\"Masala\"]},{\"name\":\"Mutton '\n",
      " 'biryani\",\"price\":180.0,\"ingredients\":null}]}')\n"
     ]
    }
   ],
   "source": [
    "from typing import List, Optional\n",
    "\n",
    "class Food(BaseModel):\n",
    "    name : str\n",
    "    price : float\n",
    "    ingredients : Optional[List[str]] = None\n",
    "\n",
    "class Restaurant(BaseModel):\n",
    "    name : str\n",
    "    location : str\n",
    "    foods : List[Food]\n",
    "\n",
    "\n",
    "restaurant = Restaurant(\n",
    "    name=\"jeff biryani\",\n",
    "    location=\"123, east fort\",\n",
    "    foods=[\n",
    "        {\"name\": \"Chicken biryani\", \"price\": 120.00, \"ingredients\": [\"Chicken\", \"Rice\", \"Masala\"]},\n",
    "        {\"name\": \"Mutton biryani\", \"price\": 180.00}\n",
    "    ]\n",
    ")\n",
    "\n",
    "print(restaurant)\n",
    "pprint(restaurant.model_dump_json())"
   ]
  },
  {
   "cell_type": "code",
   "execution_count": null,
   "metadata": {},
   "outputs": [],
   "source": [
    "!pip install pydantic[email]"
   ]
  },
  {
   "cell_type": "code",
   "execution_count": 42,
   "metadata": {},
   "outputs": [
    {
     "name": "stdout",
     "output_type": "stream",
     "text": [
      "Restaurant(name='jeff biryani', owner=Owner(name='Jeff Bezos', email='jeffbezos@jeffbiryani.com'), address=Address(street='nort street', city='nagercoil', state='TamilNadu', zip_code='12345'), employees=[Employee(name='raj', position='manager', email='raj@jeffbiryani.com'), Employee(name='kumar', position='chef', email='kumar@jeffbiryani.com')], number_of_seats=50, delivery=True, website=HttpUrl('http://jeffbiryani.com/'))\n",
      "('{\"name\":\"jeff biryani\",\"owner\":{\"name\":\"Jeff '\n",
      " 'Bezos\",\"email\":\"jeffbezos@jeffbiryani.com\"},\"address\":{\"street\":\"nort '\n",
      " 'street\",\"city\":\"nagercoil\",\"state\":\"TamilNadu\",\"zip_code\":\"12345\"},\"employees\":[{\"name\":\"raj\",\"position\":\"manager\",\"email\":\"raj@jeffbiryani.com\"},{\"name\":\"kumar\",\"position\":\"chef\",\"email\":\"kumar@jeffbiryani.com\"}],\"number_of_seats\":50,\"delivery\":true,\"website\":\"http://jeffbiryani.com/\"}')\n"
     ]
    }
   ],
   "source": [
    "from typing import List\n",
    "from pydantic import BaseModel, EmailStr, PositiveInt, conlist, Field, HttpUrl\n",
    "\n",
    "class Address(BaseModel):\n",
    "    street: str\n",
    "    city: str\n",
    "    state: str\n",
    "    zip_code: str\n",
    "\n",
    "class Employee(BaseModel):\n",
    "    name: str\n",
    "    position: str\n",
    "    email: EmailStr # validates the email format.\n",
    "\n",
    "class Owner(BaseModel):\n",
    "    name: str\n",
    "    email: EmailStr\n",
    "\n",
    "class Restaurant(BaseModel):\n",
    "    name: str\n",
    "    owner: Owner\n",
    "    address: Address\n",
    "    employees: conlist(Employee, min_length=2) #collection of list in which we can define the counts limits.\n",
    "    number_of_seats: PositiveInt # to get only positive integers.\n",
    "    delivery: bool\n",
    "    website: HttpUrl # validates the urls format.\n",
    "\n",
    "\n",
    "restaurant = Restaurant(\n",
    "    name='jeff biryani',\n",
    "    owner={'name':'Jeff Bezos',\n",
    "           'email':'jeffbezos@jeffbiryani.com'},\n",
    "    address={'street':'nort street',\n",
    "             'city':'nagercoil',\n",
    "             'state':'TamilNadu',\n",
    "             'zip_code':'12345'},\n",
    "    employees=[\n",
    "        {'name':'raj',\n",
    "         'position':'manager',\n",
    "         'email':'raj@jeffbiryani.com'\n",
    "         },\n",
    "         {'name':'kumar',\n",
    "         'position':'chef',\n",
    "         'email':'kumar@jeffbiryani.com'\n",
    "         }\n",
    "    ],\n",
    "    number_of_seats=50,\n",
    "    delivery=True,\n",
    "    website=\"http://jeffbiryani.com\"\n",
    ")\n",
    "pprint(restaurant)\n",
    "pprint(restaurant.model_dump_json())"
   ]
  },
  {
   "cell_type": "markdown",
   "metadata": {},
   "source": [
    "Field Validator"
   ]
  },
  {
   "cell_type": "code",
   "execution_count": null,
   "metadata": {},
   "outputs": [],
   "source": []
  }
 ],
 "metadata": {
  "kernelspec": {
   "display_name": "genai",
   "language": "python",
   "name": "python3"
  },
  "language_info": {
   "codemirror_mode": {
    "name": "ipython",
    "version": 3
   },
   "file_extension": ".py",
   "mimetype": "text/x-python",
   "name": "python",
   "nbconvert_exporter": "python",
   "pygments_lexer": "ipython3",
   "version": "3.12.8"
  }
 },
 "nbformat": 4,
 "nbformat_minor": 2
}
